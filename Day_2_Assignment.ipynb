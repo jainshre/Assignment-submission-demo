{
  "nbformat": 4,
  "nbformat_minor": 0,
  "metadata": {
    "colab": {
      "name": "Day 2 Assignment",
      "provenance": [],
      "authorship_tag": "ABX9TyNS2GvGDHVYElTDK/nLA6DD",
      "include_colab_link": true
    },
    "kernelspec": {
      "name": "python3",
      "display_name": "Python 3"
    },
    "language_info": {
      "name": "python"
    }
  },
  "cells": [
    {
      "cell_type": "markdown",
      "metadata": {
        "id": "view-in-github",
        "colab_type": "text"
      },
      "source": [
        "<a href=\"https://colab.research.google.com/github/jainshre/Assignment-submission-demo/blob/main/Day_2_Assignment.ipynb\" target=\"_parent\"><img src=\"https://colab.research.google.com/assets/colab-badge.svg\" alt=\"Open In Colab\"/></a>"
      ]
    },
    {
      "cell_type": "markdown",
      "metadata": {
        "id": "it9JjItJ_50z"
      },
      "source": [
        "## **Assignment Question 1**"
      ]
    },
    {
      "cell_type": "markdown",
      "metadata": {
        "id": "hDlNVGDFAJtS"
      },
      "source": [
        "Create a dataframe with 10 rows on random numbers and 4 columns, (columns labelled as a,b,c,d) and plot a bar chart.\n"
      ]
    },
    {
      "cell_type": "code",
      "metadata": {
        "id": "kARmQEo9F3LA"
      },
      "source": [
        "import numpy as np\n",
        "import pandas as pd\n",
        "import seaborn as sns\n",
        "import matplotlib as mpl\n",
        "import matplotlib.pyplot as plt\n",
        "%matplotlib inline\n",
        "from numpy.random import randn , randint , uniform , sample"
      ],
      "execution_count": 3,
      "outputs": []
    },
    {
      "cell_type": "code",
      "metadata": {
        "colab": {
          "base_uri": "https://localhost:8080/",
          "height": 357
        },
        "id": "5dDw4kfQBfdM",
        "outputId": "2613d20c-05ad-413b-c3fb-c6b94da57b7e"
      },
      "source": [
        "df=pd.DataFrame(randn(10,4),columns=['a','b','c','d'])\n",
        "df"
      ],
      "execution_count": 4,
      "outputs": [
        {
          "output_type": "execute_result",
          "data": {
            "text/html": [
              "<div>\n",
              "<style scoped>\n",
              "    .dataframe tbody tr th:only-of-type {\n",
              "        vertical-align: middle;\n",
              "    }\n",
              "\n",
              "    .dataframe tbody tr th {\n",
              "        vertical-align: top;\n",
              "    }\n",
              "\n",
              "    .dataframe thead th {\n",
              "        text-align: right;\n",
              "    }\n",
              "</style>\n",
              "<table border=\"1\" class=\"dataframe\">\n",
              "  <thead>\n",
              "    <tr style=\"text-align: right;\">\n",
              "      <th></th>\n",
              "      <th>a</th>\n",
              "      <th>b</th>\n",
              "      <th>c</th>\n",
              "      <th>d</th>\n",
              "    </tr>\n",
              "  </thead>\n",
              "  <tbody>\n",
              "    <tr>\n",
              "      <th>0</th>\n",
              "      <td>-1.011138</td>\n",
              "      <td>1.545520</td>\n",
              "      <td>0.613340</td>\n",
              "      <td>0.666570</td>\n",
              "    </tr>\n",
              "    <tr>\n",
              "      <th>1</th>\n",
              "      <td>0.395150</td>\n",
              "      <td>-1.149780</td>\n",
              "      <td>-0.401514</td>\n",
              "      <td>-1.349188</td>\n",
              "    </tr>\n",
              "    <tr>\n",
              "      <th>2</th>\n",
              "      <td>-0.708469</td>\n",
              "      <td>0.764290</td>\n",
              "      <td>0.107549</td>\n",
              "      <td>0.935698</td>\n",
              "    </tr>\n",
              "    <tr>\n",
              "      <th>3</th>\n",
              "      <td>0.366206</td>\n",
              "      <td>1.232090</td>\n",
              "      <td>-1.597151</td>\n",
              "      <td>1.330945</td>\n",
              "    </tr>\n",
              "    <tr>\n",
              "      <th>4</th>\n",
              "      <td>0.181697</td>\n",
              "      <td>-0.729381</td>\n",
              "      <td>0.495327</td>\n",
              "      <td>-1.550199</td>\n",
              "    </tr>\n",
              "    <tr>\n",
              "      <th>5</th>\n",
              "      <td>0.163560</td>\n",
              "      <td>-0.506028</td>\n",
              "      <td>-0.866038</td>\n",
              "      <td>-0.905765</td>\n",
              "    </tr>\n",
              "    <tr>\n",
              "      <th>6</th>\n",
              "      <td>0.255080</td>\n",
              "      <td>0.069522</td>\n",
              "      <td>-0.879468</td>\n",
              "      <td>-0.213706</td>\n",
              "    </tr>\n",
              "    <tr>\n",
              "      <th>7</th>\n",
              "      <td>0.864479</td>\n",
              "      <td>-0.627537</td>\n",
              "      <td>0.728958</td>\n",
              "      <td>-1.769745</td>\n",
              "    </tr>\n",
              "    <tr>\n",
              "      <th>8</th>\n",
              "      <td>1.445483</td>\n",
              "      <td>0.188498</td>\n",
              "      <td>1.260316</td>\n",
              "      <td>-0.051423</td>\n",
              "    </tr>\n",
              "    <tr>\n",
              "      <th>9</th>\n",
              "      <td>0.824686</td>\n",
              "      <td>-0.618926</td>\n",
              "      <td>0.529307</td>\n",
              "      <td>-1.286835</td>\n",
              "    </tr>\n",
              "  </tbody>\n",
              "</table>\n",
              "</div>"
            ],
            "text/plain": [
              "          a         b         c         d\n",
              "0 -1.011138  1.545520  0.613340  0.666570\n",
              "1  0.395150 -1.149780 -0.401514 -1.349188\n",
              "2 -0.708469  0.764290  0.107549  0.935698\n",
              "3  0.366206  1.232090 -1.597151  1.330945\n",
              "4  0.181697 -0.729381  0.495327 -1.550199\n",
              "5  0.163560 -0.506028 -0.866038 -0.905765\n",
              "6  0.255080  0.069522 -0.879468 -0.213706\n",
              "7  0.864479 -0.627537  0.728958 -1.769745\n",
              "8  1.445483  0.188498  1.260316 -0.051423\n",
              "9  0.824686 -0.618926  0.529307 -1.286835"
            ]
          },
          "metadata": {
            "tags": []
          },
          "execution_count": 4
        }
      ]
    },
    {
      "cell_type": "code",
      "metadata": {
        "colab": {
          "base_uri": "https://localhost:8080/",
          "height": 279
        },
        "id": "2EPDv2wTCBFr",
        "outputId": "3c0f7276-27bb-40bf-9222-99664b0e8744"
      },
      "source": [
        "df['a'].plot(kind=\"bar\")"
      ],
      "execution_count": 5,
      "outputs": [
        {
          "output_type": "execute_result",
          "data": {
            "text/plain": [
              "<matplotlib.axes._subplots.AxesSubplot at 0x7f3f41666990>"
            ]
          },
          "metadata": {
            "tags": []
          },
          "execution_count": 5
        },
        {
          "output_type": "display_data",
          "data": {
            "image/png": "[encoded data removed]",
            "text/plain": [
              "<Figure size 432x288 with 1 Axes>"
            ]
          },
          "metadata": {
            "tags": [],
            "needs_background": "light"
          }
        }
      ]
    },
    {
      "cell_type": "code",
      "metadata": {
        "colab": {
          "base_uri": "https://localhost:8080/",
          "height": 279
        },
        "id": "0dBuMYV4CMcQ",
        "outputId": "280a693c-84a2-422f-b9d6-e37e00653fe4"
      },
      "source": [
        "df['b'].plot(kind=\"bar\")"
      ],
      "execution_count": 6,
      "outputs": [
        {
          "output_type": "execute_result",
          "data": {
            "text/plain": [
              "<matplotlib.axes._subplots.AxesSubplot at 0x7f3f4142dad0>"
            ]
          },
          "metadata": {
            "tags": []
          },
          "execution_count": 6
        },
        {
          "output_type": "display_data",
          "data": {
            "image/png": "[encoded data removed]",
            "text/plain": [
              "<Figure size 432x288 with 1 Axes>"
            ]
          },
          "metadata": {
            "tags": [],
            "needs_background": "light"
          }
        }
      ]
    },
    {
      "cell_type": "code",
      "metadata": {
        "colab": {
          "base_uri": "https://localhost:8080/",
          "height": 279
        },
        "id": "9xXhsXHYCSv5",
        "outputId": "2829667a-fb16-472d-e901-74cf7285d1ec"
      },
      "source": [
        "df['c'].plot(kind=\"bar\")"
      ],
      "execution_count": 7,
      "outputs": [
        {
          "output_type": "execute_result",
          "data": {
            "text/plain": [
              "<matplotlib.axes._subplots.AxesSubplot at 0x7f3f40f845d0>"
            ]
          },
          "metadata": {
            "tags": []
          },
          "execution_count": 7
        },
        {
          "output_type": "display_data",
          "data": {
            "image/png": "[encoded data removed]",
            "text/plain": [
              "<Figure size 432x288 with 1 Axes>"
            ]
          },
          "metadata": {
            "tags": [],
            "needs_background": "light"
          }
        }
      ]
    },
    {
      "cell_type": "code",
      "metadata": {
        "colab": {
          "base_uri": "https://localhost:8080/",
          "height": 279
        },
        "id": "ME8PYyOCCVfy",
        "outputId": "e86ef167-3035-42ae-83e8-23cd61a74bc8"
      },
      "source": [
        "df['d'].plot(kind=\"bar\")"
      ],
      "execution_count": 8,
      "outputs": [
        {
          "output_type": "execute_result",
          "data": {
            "text/plain": [
              "<matplotlib.axes._subplots.AxesSubplot at 0x7f3f40e94210>"
            ]
          },
          "metadata": {
            "tags": []
          },
          "execution_count": 8
        },
        {
          "output_type": "display_data",
          "data": {
            "image/png": "[encoded data removed]",
            "text/plain": [
              "<Figure size 432x288 with 1 Axes>"
            ]
          },
          "metadata": {
            "tags": [],
            "needs_background": "light"
          }
        }
      ]
    }
  ]
}