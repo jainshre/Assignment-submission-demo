{
  "nbformat": 4,
  "nbformat_minor": 0,
  "metadata": {
    "colab": {
      "name": "Day 1 Assignment",
      "provenance": [],
      "collapsed_sections": [],
      "authorship_tag": "ABX9TyNnuKLVemVlZTSu0Q8q01nA",
      "include_colab_link": true
    },
    "kernelspec": {
      "name": "python3",
      "display_name": "Python 3"
    },
    "language_info": {
      "name": "python"
    }
  },
  "cells": [
    {
      "cell_type": "markdown",
      "metadata": {
        "id": "view-in-github",
        "colab_type": "text"
      },
      "source": [
        "<a href=\"https://colab.research.google.com/github/jainshre/Assignment-submission-demo/blob/main/Day_1_Assignment.ipynb\" target=\"_parent\"><img src=\"https://colab.research.google.com/assets/colab-badge.svg\" alt=\"Open In Colab\"/></a>"
      ]
    },
    {
      "cell_type": "code",
      "metadata": {
        "id": "bDfVTqI7tKdM"
      },
      "source": [
        ""
      ],
      "execution_count": null,
      "outputs": []
    },
    {
      "cell_type": "markdown",
      "metadata": {
        "id": "9mJeZp8otjld"
      },
      "source": [
        "## **Assignment Question : 1**"
      ]
    },
    {
      "cell_type": "code",
      "metadata": {
        "id": "g39_3btAumdc"
      },
      "source": [
        "import numpy as np\n",
        "import pandas as pn\n",
        "import seaborn as sns\n",
        "import matplotlib as mpl\n",
        "import matplotlib.pyplot as plt\n",
        "%matplotlib inline\n"
      ],
      "execution_count": 2,
      "outputs": []
    },
    {
      "cell_type": "code",
      "metadata": {
        "colab": {
          "base_uri": "https://localhost:8080/"
        },
        "id": "VArCVJQutrpT",
        "outputId": "d5a0f287-2b32-4494-97db-25b803691624"
      },
      "source": [
        "x=np.arange(0,10)\n",
        "y=x*x\n",
        "x"
      ],
      "execution_count": 3,
      "outputs": [
        {
          "output_type": "execute_result",
          "data": {
            "text/plain": [
              "array([0, 1, 2, 3, 4, 5, 6, 7, 8, 9])"
            ]
          },
          "metadata": {
            "tags": []
          },
          "execution_count": 3
        }
      ]
    },
    {
      "cell_type": "code",
      "metadata": {
        "colab": {
          "base_uri": "https://localhost:8080/"
        },
        "id": "Gcv15uj1urUG",
        "outputId": "5fd99a80-23c9-4dc7-a902-f03774ab0e49"
      },
      "source": [
        "y"
      ],
      "execution_count": 4,
      "outputs": [
        {
          "output_type": "execute_result",
          "data": {
            "text/plain": [
              "array([ 0,  1,  4,  9, 16, 25, 36, 49, 64, 81])"
            ]
          },
          "metadata": {
            "tags": []
          },
          "execution_count": 4
        }
      ]
    },
    {
      "cell_type": "code",
      "metadata": {
        "colab": {
          "base_uri": "https://localhost:8080/",
          "height": 312
        },
        "id": "QPNFgxXWutZ8",
        "outputId": "49156ba0-44d6-4971-8db5-1a0160e4dce7"
      },
      "source": [
        "plt.plot(x,y,color='blue', marker='o', linestyle='dashed',linewidth=1, markersize=10)\n",
        "plt.title('Curve Plot')\n",
        "plt.xlabel('x-axis')\n",
        "plt.ylabel('y-axis')"
      ],
      "execution_count": 7,
      "outputs": [
        {
          "output_type": "execute_result",
          "data": {
            "text/plain": [
              "Text(0, 0.5, 'y-axis')"
            ]
          },
          "metadata": {
            "tags": []
          },
          "execution_count": 7
        },
        {
          "output_type": "display_data",
          "data": {
            "image/png": "[encoded data removed]",
            "text/plain": [
              "<Figure size 432x288 with 1 Axes>"
            ]
          },
          "metadata": {
            "tags": [],
            "needs_background": "light"
          }
        }
      ]
    },
    {
      "cell_type": "markdown",
      "metadata": {
        "id": "mEX7UMPTv_8r"
      },
      "source": [
        "## **Assignment Question : 2**\n",
        "\n",
        "```\n",
        "```\n",
        "\n"
      ]
    },
    {
      "cell_type": "code",
      "metadata": {
        "colab": {
          "base_uri": "https://localhost:8080/",
          "height": 279
        },
        "id": "Lm3Om8xlwQI1",
        "outputId": "592ed856-0ece-48f9-d297-9e70fbe5c549"
      },
      "source": [
        "x = [1,2,3,4,5,6,7]  #days of a week\n",
        "y=[160,150,140,145,175,165,180] #sales \n",
        "\n",
        "#plot points\n",
        "plt.plot(x,y,'bo--', linewidth=2, markersize=12)\n",
        "plt.xlabel('Days of a week')\n",
        "plt.ylabel('Sales')\n",
        "plt.show()"
      ],
      "execution_count": 8,
      "outputs": [
        {
          "output_type": "display_data",
          "data": {
            "image/png": "[encoded data removed]",
            "text/plain": [
              "<Figure size 432x288 with 1 Axes>"
            ]
          },
          "metadata": {
            "tags": [],
            "needs_background": "light"
          }
        }
      ]
    }
  ]
}